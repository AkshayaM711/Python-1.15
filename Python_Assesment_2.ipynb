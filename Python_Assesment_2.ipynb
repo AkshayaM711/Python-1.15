{
  "nbformat": 4,
  "nbformat_minor": 0,
  "metadata": {
    "colab": {
      "provenance": []
    },
    "kernelspec": {
      "name": "python3",
      "display_name": "Python 3"
    },
    "language_info": {
      "name": "python"
    }
  },
  "cells": [
    {
      "cell_type": "markdown",
      "source": [
        "QUESTION:1\n"
      ],
      "metadata": {
        "id": "jYPaKYVYk-oI"
      }
    },
    {
      "cell_type": "code",
      "source": [
        "def sum_of_multiples(n):\n",
        "    if n < 0:\n",
        "        return 0\n",
        "    return sum(x for x in range(n) if x % 3 == 0 or x % 5 == 0)\n",
        "\n",
        "# Example Test Case\n",
        "print(sum_of_multiples(10))"
      ],
      "metadata": {
        "colab": {
          "base_uri": "https://localhost:8080/"
        },
        "id": "aw-UjgjIoIvg",
        "outputId": "0cf75ff5-74e7-41f2-95cb-6b08db068c5f"
      },
      "execution_count": null,
      "outputs": [
        {
          "output_type": "stream",
          "name": "stdout",
          "text": [
            "23\n"
          ]
        }
      ]
    },
    {
      "cell_type": "markdown",
      "source": [
        "QUESTION:2"
      ],
      "metadata": {
        "id": "imgnpnHQoVK7"
      }
    },
    {
      "cell_type": "code",
      "source": [
        "def to_camel_case(text):\n",
        "    words = text.replace(\"-\", \"_\").split(\"_\")\n",
        "    return words[0] + \"\".join(word.capitalize() for word in words[1:])\n",
        "\n",
        "# Example Test Cases\n",
        "print(to_camel_case(\"the-stealth-warrior\"))\n",
        "print(to_camel_case(\"The_Stealth_Warrior\"))\n",
        "print(to_camel_case(\"The_Stealth-Warrior\"))"
      ],
      "metadata": {
        "colab": {
          "base_uri": "https://localhost:8080/"
        },
        "id": "PjdD96WeoaqN",
        "outputId": "a294f8c2-2d98-4075-de75-dcb83870088d"
      },
      "execution_count": null,
      "outputs": [
        {
          "output_type": "stream",
          "name": "stdout",
          "text": [
            "theStealthWarrior\n",
            "TheStealthWarrior\n",
            "TheStealthWarrior\n"
          ]
        }
      ]
    },
    {
      "cell_type": "markdown",
      "source": [
        "QUESTION:3"
      ],
      "metadata": {
        "id": "fLMgq0AMosec"
      }
    },
    {
      "cell_type": "code",
      "source": [
        "def remove_vowels(s):\n",
        "    return \"\".join(c for c in s if c.lower() not in \"aeiou\")\n",
        "\n",
        "# Example Test Case\n",
        "print(remove_vowels(\"This website is for losers LOL!\"))"
      ],
      "metadata": {
        "colab": {
          "base_uri": "https://localhost:8080/"
        },
        "id": "FPgt4OikouQ3",
        "outputId": "35d9d0c4-1d9b-4ff1-c610-d41b5cc82916"
      },
      "execution_count": null,
      "outputs": [
        {
          "output_type": "stream",
          "name": "stdout",
          "text": [
            "Ths wbst s fr lsrs LL!\n"
          ]
        }
      ]
    },
    {
      "cell_type": "markdown",
      "source": [
        "QUESTION:4"
      ],
      "metadata": {
        "id": "AjpHsEcmo1Zz"
      }
    },
    {
      "cell_type": "code",
      "source": [
        "def order(sentence):\n",
        "    return \" \".join(sorted(sentence.split(), key=lambda w: sorted(w)))\n",
        "\n",
        "# Example Test Cases\n",
        "print(order(\"is2 Thi1s T4est 3a\"))\n",
        "print(order(\"4of Fo1r pe6ople g3ood th5e the2\"))\n",
        "print(order(\"\"))"
      ],
      "metadata": {
        "colab": {
          "base_uri": "https://localhost:8080/"
        },
        "id": "HQ1Uwk2co4YG",
        "outputId": "d8cee574-d62b-49e7-842c-6609470fe19e"
      },
      "execution_count": null,
      "outputs": [
        {
          "output_type": "stream",
          "name": "stdout",
          "text": [
            "Thi1s is2 3a T4est\n",
            "Fo1r the2 g3ood 4of th5e pe6ople\n",
            "\n"
          ]
        }
      ]
    },
    {
      "cell_type": "markdown",
      "source": [
        "QUESTION:5"
      ],
      "metadata": {
        "id": "vq3ZgnEKpCd4"
      }
    },
    {
      "cell_type": "code",
      "source": [
        "def sort_odd_numbers(arr):\n",
        "    odds = sorted([x for x in arr if x % 2 != 0])\n",
        "    odd_index = 0\n",
        "    for i in range(len(arr)):\n",
        "        if arr[i] % 2 != 0:\n",
        "            arr[i] = odds[odd_index]\n",
        "            odd_index += 1\n",
        "    return arr\n",
        "\n",
        "# Example Test Cases\n",
        "print(sort_odd_numbers([7, 1]))\n",
        "print(sort_odd_numbers([5, 8, 6, 3, 4]))\n",
        "print(sort_odd_numbers([9, 8, 7, 6, 5, 4, 3, 2, 1, 0]))\n"
      ],
      "metadata": {
        "colab": {
          "base_uri": "https://localhost:8080/"
        },
        "id": "3x3jX-kMpESu",
        "outputId": "4e18f992-d92f-4c03-c2e2-5652bfd02eeb"
      },
      "execution_count": null,
      "outputs": [
        {
          "output_type": "stream",
          "name": "stdout",
          "text": [
            "[1, 7]\n",
            "[3, 8, 6, 5, 4]\n",
            "[1, 8, 3, 6, 5, 4, 7, 2, 9, 0]\n"
          ]
        }
      ]
    }
  ]
}